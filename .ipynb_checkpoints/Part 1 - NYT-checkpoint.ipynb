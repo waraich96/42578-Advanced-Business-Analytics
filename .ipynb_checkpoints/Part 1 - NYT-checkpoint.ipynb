{
 "cells": [
  {
   "cell_type": "markdown",
   "metadata": {},
   "source": [
    "*Francisco Pereira [camara@dtu.dk], DTU Management*\n",
    "\n",
    "\n",
    "\n",
    "# Advanced Business Analytics"
   ]
  },
  {
   "cell_type": "markdown",
   "metadata": {},
   "source": [
    "## Lecture 1 - Web Data Mining - Part 1: News streams"
   ]
  },
  {
   "cell_type": "markdown",
   "metadata": {},
   "source": [
    "A lot of valuable data can be collected from online sources. It can be used to get insights, make predictions, etc. In this notebook, we're going to practice data collection from online sources using API. Particularly, we will collect new data from the New York Times and analyse it using a Sentiment Analysis API."
   ]
  },
  {
   "cell_type": "markdown",
   "metadata": {},
   "source": [
    "**note: We use the NYT and Sentiment APIs because they are both free and straightforward to use. Many others exist that are free but require privacy sensitive data (e.g. credit card) for the registration. We strongly encourage you to try those, which are often more interesting, but be aware of the risks.** "
   ]
  },
  {
   "cell_type": "markdown",
   "metadata": {},
   "source": [
    "### 1. Accessing New York Times (NYT) data \n"
   ]
  },
  {
   "cell_type": "markdown",
   "metadata": {},
   "source": [
    "**! WARNING !**\n",
    "\n",
    "**In order to make a developer account, you will need to use your email. However, if you do not want to do such registration, you can go through the solutions notebook directly. **"
   ]
  },
  {
   "cell_type": "markdown",
   "metadata": {},
   "source": [
    "#### 1.1. Creating developer account\n",
    "\n",
    "In order to use NYT’s API, you have to create a developer account on the NYT developers website.\n",
    "\n",
    "1. Sign in or create a NYT developer account http://developer.nytimes.com.\n",
    "\n",
    "2. Create a new app\n",
    "     1. Go to your profile->Apps->New App\n",
    "     2. App name (required, e.g., *testappxxx12345*)\n",
    "     3. For this notebook specifically, you will need to enable the following APIs: Times Wire, Top Stories and Community\n",
    "     \n",
    "3. Once your App has been created, copy your API key. You will need it later on\n"
   ]
  },
  {
   "cell_type": "markdown",
   "metadata": {},
   "source": [
    "#### 1.2. Install request API\n",
    "Request is a python library to make access to REST API services, through HTTP calls. You can install request using several options:\n",
    "- Anaconda-Navigator: add chanel ```conda-forge```, press \"update index...\", search for ```requests```, install\n",
    "- pip: pip install requests"
   ]
  },
  {
   "cell_type": "markdown",
   "metadata": {},
   "source": [
    "#### 1.3. The anatomy of a GET request\n",
    "Now that we have the API key, we can playing with our API! We will work with the basic GET requests (and later below, the POST requests). If you understand these well, you are ready for pretty much any API out there. The opportunities are imense! :-)\n",
    "\n",
    "First, let’s import requests"
   ]
  },
  {
   "cell_type": "code",
   "execution_count": 3,
   "metadata": {},
   "outputs": [],
   "source": [
    "import requests\n"
   ]
  },
  {
   "cell_type": "markdown",
   "metadata": {},
   "source": [
    "In practice, a GET request consists of a single http call, where the first part indicates the API server and service (we often call it \"url\"), and the second part contains the parameters of your call (usually called \"params\"). The code below exemplifies the idea"
   ]
  },
  {
   "cell_type": "raw",
   "metadata": {},
   "source": [
    "url = \"<put the URL of the service you want here>\"\n",
    "\n",
    "params = \"{dictionary with the parameters that you want to send. Always check with the API documentation!}\"\n",
    "\n",
    "response = requests.request(\"GET\", url, params=params) #this is the actual call you make to the REST API... :-)\n",
    "\n"
   ]
  },
  {
   "cell_type": "markdown",
   "metadata": {},
   "source": [
    "#### 1.4. Example 1: Times Newswire API\n",
    "In the first example, we’ll be pulling the 20 most recent news from NYT. We’ll do this by using the API object’s \n"
   ]
  },
  {
   "cell_type": "code",
   "execution_count": 1,
   "metadata": {},
   "outputs": [],
   "source": [
    "import requests\n",
    "\n",
    "url = \"https://api.nytimes.com/svc/news/v3/content/nyt/world.json\"\n",
    "\n",
    "\n",
    "headers = {\n",
    "    'api-key': \"API_Key\" #key\n",
    "    }\n",
    "\n",
    "response = requests.request(\"GET\", url, params=headers)\n",
    "\n"
   ]
  },
  {
   "cell_type": "markdown",
   "metadata": {},
   "source": [
    "The result should look like a bunch of random news, with the corresponding URL of each news itself. Following the link will often bring you to the news article."
   ]
  },
  {
   "cell_type": "markdown",
   "metadata": {},
   "source": [
    "**we recommend you to inspect manually the \"response\" object. Among other things, it has a json function, that transforms the returned data into a json dictionary.**"
   ]
  },
  {
   "cell_type": "code",
   "execution_count": 2,
   "metadata": {},
   "outputs": [],
   "source": [
    "result=response.json()"
   ]
  },
  {
   "cell_type": "markdown",
   "metadata": {},
   "source": [
    "An important field of the response object is the **status_code**. Examples are 200 (request went ok), 400 (you made some mistake), 401 (not authorized, you may have put a wrong API key), 404 (the service was not found at all). For a full list, check https://www.w3.org/Protocols/HTTP/HTRESP.html "
   ]
  },
  {
   "cell_type": "code",
   "execution_count": 3,
   "metadata": {},
   "outputs": [
    {
     "data": {
      "text/plain": [
       "200"
      ]
     },
     "execution_count": 3,
     "metadata": {},
     "output_type": "execute_result"
    }
   ],
   "source": [
    "response.status_code"
   ]
  },
  {
   "cell_type": "markdown",
   "metadata": {},
   "source": [
    "**inspect the \"result\" object. You'll it is full of relevant data!** "
   ]
  },
  {
   "cell_type": "code",
   "execution_count": null,
   "metadata": {},
   "outputs": [],
   "source": []
  },
  {
   "cell_type": "markdown",
   "metadata": {},
   "source": [
    "Let's take a look at the whole dictionary at once (well, only the titles and URLs)"
   ]
  },
  {
   "cell_type": "code",
   "execution_count": 4,
   "metadata": {},
   "outputs": [
    {
     "name": "stdout",
     "output_type": "stream",
     "text": [
      "There are 20 different news retrieved\n",
      "Title: As diplomatic push continues, Macron will travel to Russia and Ukraine next week., Source: https://www.nytimes.com/live/2022/02/03/world/russia-ukraine-xi-putin/as-diplomatic-push-continues-macron-will-travel-to-russia-and-ukraine-next-week\n",
      "Title: Pandemic-era tests could help efforts to eliminate hepatitis C., Source: https://www.nytimes.com/live/2022/02/04/world/covid-test-vaccine-cases/pandemic-era-tests-could-help-efforts-to-eliminate-hepatitis-c\n",
      "Title: Jens Stoltenberg will head Norway’s central bank after his NATO term ends., Source: https://www.nytimes.com/live/2022/02/03/world/russia-ukraine-xi-putin/jens-stoltenberg-will-head-norways-central-bank-after-his-nato-term-ends\n",
      "Title: Captain Cook’s Ship Caught in Center of a Maritime Rift, Source: https://www.nytimes.com/2022/02/04/world/australia/captain-james-cook-hmb-endeavour.html\n",
      "Title: Is China’s ‘zero-Covid’ policy sustainable?, Source: https://www.nytimes.com/live/2022/02/04/world/covid-test-vaccine-cases/is-chinas-zero-covid-policy-sustainable\n",
      "Title: Chinese state media offered breathless coverage of the meeting., Source: https://www.nytimes.com/live/2022/02/03/world/russia-ukraine-xi-putin/chinese-state-media-offered-breathless-coverage-of-the-meeting\n",
      "Title: On Ukraine, Many Russians Have No Doubt: It’s the Fault of the U.S., Source: https://www.nytimes.com/2022/02/04/world/europe/russia-public-opinion-ukraine-us-nato.html\n",
      "Title: A Black Iraqi’s Sudden Career in TV News: ‘They Wanted to See All Colors’, Source: https://www.nytimes.com/2022/02/04/world/middleeast/iraq-tv-black-news-anchor.html\n",
      "Title: New Zealand Inquiry Finds Hundreds of Reports of Abuse by Priests, Source: https://www.nytimes.com/2022/02/04/world/australia/new-zealand-catholic-abuse.html\n",
      "Title: Belarus, a Russian ally bordering Ukraine, may host nuclear arms again., Source: https://www.nytimes.com/live/2022/02/03/world/russia-ukraine-xi-putin/belarus-a-russian-ally-bordering-ukraine-may-host-nuclear-arms-again\n",
      "Title: Russia has a history of launching invasions during (or just after) the Olympics., Source: https://www.nytimes.com/live/2022/02/03/world/russia-ukraine-xi-putin/russia-has-a-history-of-staging-invasions-during-or-just-after-the-olympics\n",
      "Title: Why I’ve Learned to Loathe Australia’s Trivial Politics, Source: https://www.nytimes.com/2022/02/04/world/australia/trivial-politics-covid.html\n",
      "Title: A Ukraine conflict could embolden China as it contemplates Taiwan., Source: https://www.nytimes.com/live/2022/02/03/world/russia-ukraine-xi-putin/a-ukraine-conflict-could-embolden-china-with-taiwan\n",
      "Title: Tracking Coronavirus in China: Latest Case Count, Source: https://www.nytimes.com/interactive/2021/world/china-covid-cases.html\n",
      "Title: Russia and China join in opposing any expansion of NATO., Source: https://www.nytimes.com/live/2022/02/03/world/russia-ukraine-xi-putin/ukraine-briefing-xi-putin\n",
      "Title: ‘Those Who Remain Will Die’: Neighbors Recall Night of Fear in Syria Raid, Source: https://www.nytimes.com/2022/02/03/world/middleeast/isis-raid-idlib-qurayshi.html\n",
      "Title: ISIS Leader Kills Himself With a Bomb During U.S. Raid in Syria, Source: https://www.nytimes.com/video/world/middleeast/100000008190749/isis-leader-syria-raid.html\n",
      "Title: Top aides to Boris Johnson quit, deepening his isolation amid a scandal over lockdown parties., Source: https://www.nytimes.com/live/2022/02/03/world/covid-test-vaccine-cases/top-aides-to-boris-johnson-quit-after-report-detailing-social-gatherings-during-lockdown\n",
      "Title: Top Aides to Boris Johnson Quit, Adding to Downing Street Turmoil, Source: https://www.nytimes.com/2022/02/03/world/europe/top-aides-boris-johnson-quit.html\n",
      "Title: A deluge of medical waste is swamping the globe, a U.N. report says., Source: https://www.nytimes.com/2022/02/03/world/medical-waste-environment-covid.html\n"
     ]
    }
   ],
   "source": [
    "print(\"There are %d different news retrieved\"%len(result['results']))\n",
    "\n",
    "for res in result['results']:\n",
    "    print(\"Title: %s, Source: %s\"%(res['title'], res['url']))"
   ]
  },
  {
   "cell_type": "code",
   "execution_count": null,
   "metadata": {},
   "outputs": [],
   "source": [
    "print(\"There are %d different news retrieved\"%len(result['results']))\n",
    "\n",
    "for res in result['results']:\n",
    "    print(\"Section: %s\"%(res['title']))"
   ]
  },
  {
   "cell_type": "markdown",
   "metadata": {},
   "source": [
    "#### 1.5. Exercise: NYT top stories from last 30 days...\n",
    "\n",
    "It is now time for your to build your own REST API GET call. We want you to get the list of top stories from the last 30 days. \n",
    "\n",
    "First, you’ll have to examine the NYT documentation to find where the Top Stories API is (do you have it enabled?):  https://developer.nytimes.com/apis\n",
    "\n",
    "Then you'll have to understand how to really call it. What is the URL? What are the parameters?\n",
    "\n"
   ]
  },
  {
   "cell_type": "code",
   "execution_count": 4,
   "metadata": {},
   "outputs": [],
   "source": [
    "import requests\n",
    "\n",
    "url = \"https://api.nytimes.com/svc/mostpopular/v2/viewed/30.json\"\n",
    "\n",
    "\n",
    "headers = {\n",
    "    'api-key': \"API_Key\" #key\n",
    "    }\n",
    "\n",
    "response = requests.request(\"GET\", url, params=headers)"
   ]
  },
  {
   "cell_type": "code",
   "execution_count": 5,
   "metadata": {},
   "outputs": [
    {
     "data": {
      "text/plain": [
       "200"
      ]
     },
     "execution_count": 5,
     "metadata": {},
     "output_type": "execute_result"
    }
   ],
   "source": [
    "result=response.json()\n",
    "response.status_code"
   ]
  },
  {
   "cell_type": "code",
   "execution_count": 6,
   "metadata": {},
   "outputs": [
    {
     "name": "stdout",
     "output_type": "stream",
     "text": [
      "There are 20 top stories in the last 30 days\n",
      "Section: Health \t Title: Bob Saget’s Autopsy Report Describes Severe Skull Fractures\n",
      "Section: Business \t Title: The New York Times Buys Wordle\n",
      "Section: Style \t Title: Anna Sorokin on ‘Inventing Anna’ and Life After Rikers\n",
      "Section: U.S. \t Title: G.O.P. Declares Jan. 6 Attack ‘Legitimate Political Discourse’\n",
      "Section: World \t Title: Effort to Rescue a 5-Year-Old Transfixes Morocco, Only to End Sadly\n",
      "Section: U.S. \t Title: Former Miss USA Cheslie Kryst Dies at 30\n",
      "Section: Your Money \t Title: Bernie Madoff’s Sister and Her Husband Are Found Dead in Florida\n",
      "Section: Technology \t Title: Wordle Is a Love Story\n",
      "Section: Health \t Title: Got a Covid Booster? You Probably Won’t Need Another for a Long Time\n",
      "Section: Sports \t Title: Kamila Valieva’s sample included three substances sometimes used to help the heart. Only one is banned.\n",
      "Section: Technology \t Title: Who Is Behind QAnon? Linguistic Detectives Find Fingerprints\n",
      "Section: New York \t Title: Accounting Firm Cuts Ties With Trump and Retracts Financial Statements\n",
      "Section: Style \t Title: ‘Jeopardy!’ Hasn’t Had a Player Like Amy Schneider\n",
      "Section: Arts \t Title: Seen ‘Inventing Anna’? Here’s What It Gets Right (and Wrong)\n",
      "Section: U.S. \t Title: Trump’s Missing Call Logs Present a Challenge for Jan. 6 Investigators\n",
      "Section: Health \t Title: The C.D.C. Isn’t Publishing Large Portions of the Covid Data It Collects\n",
      "Section: Sports \t Title: Dr. Dre, Snoop Dogg headline hip-hop halftime show as Eminem takes a knee.\n",
      "Section: Opinion \t Title: ‘The First Thing You Need to Know About Boris Johnson Is He’s a Liar’\n",
      "Section: New York \t Title: 4 Are Charged in Overdose Death of Michael K. Williams\n",
      "Section: Health \t Title: New Research Hints at 4 Factors That May Increase Chances of Long Covid\n"
     ]
    }
   ],
   "source": [
    "print(\"There are %d top stories in the last 30 days\"%len(result['results']))\n",
    "\n",
    "for res in result['results']:\n",
    "    print(\"Section: %s \\t Title: %s\"%(res['section'],res['title']))"
   ]
  },
  {
   "cell_type": "markdown",
   "metadata": {},
   "source": [
    "#### 1.6. Exercise: NYT comments section"
   ]
  },
  {
   "cell_type": "markdown",
   "metadata": {},
   "source": [
    "For the good or for worse, the comments section in a news website is often the most vivid one... the NYT API allows us to access that too. Do you want to select one of the top news articles above (of the last 30 days) and check the comments?"
   ]
  },
  {
   "cell_type": "code",
   "execution_count": 9,
   "metadata": {},
   "outputs": [
    {
     "name": "stdout",
     "output_type": "stream",
     "text": [
      "https://www.nytimes.com/2022/02/14/style/anna-delvey-sorokin-interview.html\n"
     ]
    }
   ],
   "source": [
    "#Gets an article and the url of that article\n",
    "import requests\n",
    "\n",
    "article = result['results'][2]\n",
    "article_url = article['url']\n",
    "print(article_url)\n",
    "#response = requests.request(\"GET\", article_url, params=headers)\n",
    "\n",
    "\n",
    "url = \"https://api.nytimes.com/svc/community/v3/user-content/url.json\"\n",
    "\n",
    "\n",
    "headers = {\n",
    "    'api-key': \"API_Key\", #key,\n",
    "    'offset' : 0,\n",
    "    'url': article_url\n",
    "    }\n",
    "\n",
    "response = requests.request(\"GET\", url, params=headers)\n",
    "\n",
    "\n",
    "result=response.json()"
   ]
  },
  {
   "cell_type": "markdown",
   "metadata": {},
   "source": []
  },
  {
   "cell_type": "code",
   "execution_count": 10,
   "metadata": {
    "scrolled": false
   },
   "outputs": [
    {
     "name": "stdout",
     "output_type": "stream",
     "text": [
      "Comment: 0, user: Sally, length: 36, recommentations: 53\n",
      "Comment: 1, user: Maggi, length: 619, recommentations: 603\n",
      "Comment: 2, user: PM, length: 340, recommentations: 245\n",
      "Comment: 3, user: H Munro, length: 502, recommentations: 112\n",
      "Comment: 4, user: Sally, length: 210, recommentations: 184\n",
      "Comment: 5, user: A., length: 332, recommentations: 203\n",
      "Comment: 6, user: prairie gal, length: 341, recommentations: 101\n",
      "Comment: 7, user: Chris Borman, length: 166, recommentations: 129\n",
      "Comment: 8, user: Cinderella, length: 328, recommentations: 117\n",
      "Comment: 9, user: Jules, length: 77, recommentations: 151\n",
      "Comment: 10, user: Susan, length: 149, recommentations: 72\n",
      "Comment: 11, user: Venus Transit, length: 163, recommentations: 25\n",
      "Comment: 12, user: Linn Anders, length: 201, recommentations: 135\n",
      "Comment: 13, user: Amy Williams, length: 1584, recommentations: 45\n",
      "Comment: 14, user: Jack, length: 208, recommentations: 53\n",
      "Comment: 15, user: Stefon, length: 181, recommentations: 458\n",
      "Comment: 16, user: Michael, length: 80, recommentations: 104\n",
      "Comment: 17, user: XZK, length: 211, recommentations: 71\n",
      "Comment: 18, user: Tomato, length: 112, recommentations: 262\n",
      "Comment: 19, user: MIKEinNYC, length: 77, recommentations: 265\n",
      "Comment: 20, user: Tom, length: 298, recommentations: 155\n",
      "Comment: 21, user: Brian, length: 1362, recommentations: 107\n",
      "Comment: 22, user: NZbronco, length: 880, recommentations: 40\n",
      "Comment: 23, user: Paul, length: 316, recommentations: 71\n",
      "Comment: 24, user: stosh, length: 292, recommentations: 82\n"
     ]
    }
   ],
   "source": [
    "count=0\n",
    "for res in result['results']['comments']:\n",
    "    print(\"Comment: %d, user: %s, length: %d, recommentations: %d\"%(count, res['userDisplayName'], len(res['commentBody']), res['recommendations']))\n",
    "    count+=1\n",
    "\n",
    "\n"
   ]
  },
  {
   "cell_type": "markdown",
   "metadata": {},
   "source": [
    "Print the comment that gets the most number of upvotes (\"recommendations\")"
   ]
  },
  {
   "cell_type": "code",
   "execution_count": 41,
   "metadata": {},
   "outputs": [],
   "source": [
    "#your code here"
   ]
  },
  {
   "cell_type": "markdown",
   "metadata": {},
   "source": [
    "Ok, you should now be ready to explore other services from this API and make a few calls just to see the results. Notice that the mechanism is always the same: find the service URL, get the right parameters, interpret the results... "
   ]
  },
  {
   "cell_type": "markdown",
   "metadata": {},
   "source": [
    "**note: for some existing APIs (including the NYT) there are actually Python packages that make your life even easier, with functions that directly get the data, preprocess it, combine it with others and so on. Check for example, the \"pynytimes\".** "
   ]
  },
  {
   "cell_type": "markdown",
   "metadata": {},
   "source": [
    "### 2. Combining services from different APIs. POST requests with the Sentiment Analysis API\n",
    "\n",
    "As you'll quickly find out, there are thousands of APIs available online, and even aggregators of such APIs. An example is http://rapidapi.com. Got there and create your account\n",
    "\n",
    "Feel free to browse the \"API Hub\", you may find services that you really like and can use later in your project! :-)"
   ]
  },
  {
   "cell_type": "markdown",
   "metadata": {},
   "source": [
    "What we want to do now is to use another API, the Text Sentiment API (https://rapidapi.com/fyhao/api/text-sentiment-analysis-method/), to do a simple analysis on the comments we obtained from the NYT website."
   ]
  },
  {
   "cell_type": "markdown",
   "metadata": {},
   "source": [
    "#### 2.1. The anatomy of a POST request"
   ]
  },
  {
   "cell_type": "markdown",
   "metadata": {},
   "source": [
    "The GET and POST are two different types of HTTP requests. GET is used for reading something without changing it, while POST is used for uploading data, i.e. changing something. For example, the NYT API only allowes for GET calls, since it provides news. But if it allowed us to send comments for example, it would have to be through the POST calls. "
   ]
  },
  {
   "cell_type": "markdown",
   "metadata": {},
   "source": [
    "In our case, the Text Sentiment API expects us to upload our text through a POST request called \"analyze\"."
   ]
  },
  {
   "cell_type": "markdown",
   "metadata": {},
   "source": [
    "##### 2.2. Example 2: A POST request to Text Sentiment "
   ]
  },
  {
   "cell_type": "markdown",
   "metadata": {},
   "source": [
    "Take a look below, at the different components of the call. "
   ]
  },
  {
   "cell_type": "code",
   "execution_count": 19,
   "metadata": {},
   "outputs": [],
   "source": [
    "url = \"https://text-sentiment.p.rapidapi.com/analyze\"\n",
    "\n",
    "payload = \"text=I am so happy today... hmm, no, I'm actually quite sad... wait!\"\n",
    "headers = {\n",
    "    'content-type': \"application/x-www-form-urlencoded\",\n",
    "    'x-rapidapi-host': \"text-sentiment.p.rapidapi.com\",\n",
    "    'x-rapidapi-key': \"API_Key\"\n",
    "    }\n",
    "response = requests.request(\"POST\", url, data=payload, headers=headers).json()\n",
    "\n"
   ]
  },
  {
   "cell_type": "code",
   "execution_count": 20,
   "metadata": {},
   "outputs": [
    {
     "data": {
      "text/plain": [
       "{'text': \"I am so happy today... hmm, no, I'm actually quite sad... wait!\",\n",
       " 'totalLines': 3,\n",
       " 'pos': 1,\n",
       " 'neg': 1,\n",
       " 'mid': 1,\n",
       " 'pos_percent': '33.33333333333333%',\n",
       " 'neg_percent': '33.33333333333333%',\n",
       " 'mid_percent': '33.33333333333333%',\n",
       " 'lang': 'ENGLISH'}"
      ]
     },
     "execution_count": 20,
     "metadata": {},
     "output_type": "execute_result"
    }
   ],
   "source": [
    "response"
   ]
  },
  {
   "cell_type": "markdown",
   "metadata": {},
   "source": []
  },
  {
   "cell_type": "markdown",
   "metadata": {},
   "source": [
    "#### 2.2. Assinging sentiment to the NYT comments\n",
    "\n",
    "Make a function called \"get_sentiment\", that receives a comment in text, and returns a sentiment value. If the value is 100, it should be the most positive sentiment. If it is 0, it is the most negative sentiment."
   ]
  },
  {
   "cell_type": "code",
   "execution_count": 24,
   "metadata": {},
   "outputs": [],
   "source": [
    "def get_sentiment(comment):\n",
    "    url = \"https://text-sentiment.p.rapidapi.com/analyze\"\n",
    "\n",
    "    payload = \"text=\"+comment\n",
    "    headers = {\n",
    "        'content-type': \"application/x-www-form-urlencoded\",\n",
    "        'x-rapidapi-host': \"text-sentiment.p.rapidapi.com\",\n",
    "        'x-rapidapi-key': \"API_Key\"\n",
    "        }\n",
    "    try:\n",
    "        response = requests.request(\"POST\", url, data=payload, headers=headers).json()\n",
    "        sentiment=(response['pos']+response['mid']*.5+response['neg']*0)/(response['pos']+response['mid']+response['neg'])\n",
    "    except:\n",
    "        sentiment=.5\n",
    "    \n",
    "    return sentiment*100"
   ]
  },
  {
   "cell_type": "markdown",
   "metadata": {},
   "source": [
    "Can you now go through the same set of NYT comments from above (or something else of your choice...), and print the sentiment associated to each one? Also, for those most polarized (i.e. either 0 or 100), can you print them too?"
   ]
  },
  {
   "cell_type": "code",
   "execution_count": 25,
   "metadata": {},
   "outputs": [],
   "source": [
    "url = \"https://api.nytimes.com/svc/community/v3/user-content/url.json\"\n",
    "\n",
    "\n",
    "headers = {\n",
    "    'api-key': \"API_Key\", #key,\n",
    "    'offset' : 0,\n",
    "    'url':'https://www.nytimes.com/2022/02/14/style/anna-delvey-sorokin-interview.html'\n",
    "    }\n",
    "\n",
    "response = requests.request(\"GET\", url, params=headers)\n",
    "\n",
    "result=response.json()"
   ]
  },
  {
   "cell_type": "code",
   "execution_count": 26,
   "metadata": {},
   "outputs": [
    {
     "name": "stdout",
     "output_type": "stream",
     "text": [
      "Comment: 1, user: Sally, length: 36, recommentations: 53, sentiment:50\n",
      "Comment: 2, user: Maggi, length: 619, recommentations: 603, sentiment:50\n",
      "Comment: 3, user: PM, length: 340, recommentations: 245, sentiment:50\n",
      "Comment: 4, user: H Munro, length: 502, recommentations: 112, sentiment:100\n",
      "Polarized!\n",
      "In the last two episodes,was there some importance or meaning to the narrative decision to shift sympathy and identification to the woman who committed fraud? Why choose to align the majority of major characters with the sorokin character? What was the point of depicting her friend's misfortune as some kind of deserved comeuppance for allowing sorokin to buy things for her? Was this to distinguish and give moral superiority to the other two friends who did the exact thing? what a waste of my time.\n",
      "Comment: 5, user: Sally, length: 210, recommentations: 184, sentiment:58\n",
      "Comment: 6, user: A., length: 332, recommentations: 203, sentiment:25\n",
      "Comment: 7, user: prairie gal, length: 341, recommentations: 101, sentiment:50\n",
      "Comment: 8, user: Chris Borman, length: 166, recommentations: 129, sentiment:75\n",
      "Comment: 9, user: Cinderella, length: 328, recommentations: 117, sentiment:50\n",
      "Comment: 10, user: Jules, length: 77, recommentations: 151, sentiment:25\n",
      "Comment: 11, user: Susan, length: 149, recommentations: 72, sentiment:25\n",
      "Comment: 12, user: Venus Transit, length: 163, recommentations: 25, sentiment:75\n",
      "Comment: 13, user: Linn Anders, length: 201, recommentations: 135, sentiment:37\n",
      "Comment: 14, user: Amy Williams, length: 1584, recommentations: 45, sentiment:50\n",
      "Comment: 15, user: Jack, length: 208, recommentations: 53, sentiment:50\n",
      "Comment: 16, user: Stefon, length: 181, recommentations: 458, sentiment:16\n",
      "Comment: 17, user: Michael, length: 80, recommentations: 104, sentiment:100\n",
      "Polarized!\n",
      "I must say it's hard to gin up much sympathy for the one percenters she fleeced.\n",
      "Comment: 18, user: XZK, length: 211, recommentations: 71, sentiment:50\n",
      "Comment: 19, user: Tomato, length: 112, recommentations: 262, sentiment:50\n",
      "Comment: 20, user: MIKEinNYC, length: 77, recommentations: 265, sentiment:42\n",
      "Comment: 21, user: Tom, length: 298, recommentations: 155, sentiment:50\n",
      "Comment: 22, user: Brian, length: 1362, recommentations: 107, sentiment:50\n",
      "Comment: 23, user: NZbronco, length: 880, recommentations: 40, sentiment:85\n",
      "Comment: 24, user: Paul, length: 316, recommentations: 71, sentiment:25\n",
      "Comment: 25, user: stosh, length: 292, recommentations: 82, sentiment:0\n",
      "Polarized!\n",
      "Why did she only serve only 2 years of a 4-12 year sentence?  Corruption with the corrections and judicial system i bet. No reason for it.  Connections get you everywhere including the justice system, but not for ordinary people, we would have to do the entire sentence , even for jaywalking.\n"
     ]
    }
   ],
   "source": [
    "#your code here\n",
    "count=0\n",
    "for res in result['results']['comments']:\n",
    "    count+=1\n",
    "    sentiment=get_sentiment(res['commentBody'])\n",
    "    print(\"Comment: %d, user: %s, length: %d, recommentations: %d, sentiment:%d\"%(count, res['userDisplayName'], len(res['commentBody']), res['recommendations'], sentiment))\n",
    "    if sentiment==100 or sentiment==0:\n",
    "        print(\"Polarized!\")\n",
    "        print(res['commentBody'])"
   ]
  },
  {
   "cell_type": "markdown",
   "metadata": {},
   "source": [
    "#### 2.3. So many other things to do!..."
   ]
  },
  {
   "cell_type": "markdown",
   "metadata": {},
   "source": [
    "The idea with this notebook was to give you access to this magnificent Web Mining tool that are the HTTP GET/POST API services. Now, it's your turn to explore. Some ideas (that may require you to register for further services):\n",
    "- Further use other text anaysis tools (e.g. Google Translate, GrammarBot, TextToImage...)\n",
    "- Extract the users from the NYT Community API and create ther influencer's graph\n",
    "- Inspect other APIs you may like (e.g. financial news, stockmarket, weather, enviroment, transport, ...)\n"
   ]
  }
 ],
 "metadata": {
  "kernelspec": {
   "display_name": "Python 3 (ipykernel)",
   "language": "python",
   "name": "python3"
  },
  "language_info": {
   "codemirror_mode": {
    "name": "ipython",
    "version": 3
   },
   "file_extension": ".py",
   "mimetype": "text/x-python",
   "name": "python",
   "nbconvert_exporter": "python",
   "pygments_lexer": "ipython3",
   "version": "3.9.10"
  }
 },
 "nbformat": 4,
 "nbformat_minor": 2
}
