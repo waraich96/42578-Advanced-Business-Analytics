{
 "cells": [
  {
   "cell_type": "markdown",
   "metadata": {},
   "source": [
    "*Francisco Pereira [camara@dtu.dk], DTU Management*\n",
    "\n",
    "*Stanislav Borysov [stabo@dtu.dk], DTU Management*\n",
    "# Advanced Business Analytics"
   ]
  },
  {
   "cell_type": "markdown",
   "metadata": {},
   "source": [
    "## Lecture 2 - Text Analytics - Part 2: Daily News for Stock Market Prediction"
   ]
  },
  {
   "cell_type": "markdown",
   "metadata": {},
   "source": [
    "*Source: https://www.kaggle.com/aaron7sun/stocknews*"
   ]
  },
  {
   "cell_type": "markdown",
   "metadata": {},
   "source": [
    "### Data Description"
   ]
  },
  {
   "cell_type": "markdown",
   "metadata": {},
   "source": [
    "There are two channels of data provided in this dataset:\n",
    "\n",
    "- News data: Historical news headlines from Reddit WorldNews Channel (/r/worldnews). They are ranked by Reddit users' votes, and only the top 25 headlines are considered for a single date. (Range: 2008-06-08 to 2016-07-01)\n",
    "- Stock data: Dow Jones Industrial Average (DJIA) is used to \"prove the concept\". (Range: 2008-08-08 to 2016-07-01)\n",
    "\n",
    "Three data files in .csv format are provided in `stocknews/`:\n",
    "\n",
    "- `RedditNews.csv`: two columns; The first column is the \"date\", and the second column is the \"news headlines\". All news are ranked from top to bottom based on how hot they are. Hence, there are 25 lines for each date.\n",
    "- `DJIA_table.csv`: Downloaded directly from Yahoo Finance: check out the web page for more info.\n",
    "- `Combined_News_DJIA.csv`: Combined dataset (using the other two files) with 27 columns. The first column is \"Date\", the second is \"Label\", and the following ones are news headlines ranging from \"Top1\" to \"Top25\". The \"Label\" column can take only two values: \"1\" when \"DJIA Adj Close\" value rose or stayed as the same and \"0\" when \"DJIA Adj Close\" value decreased."
   ]
  },
  {
   "cell_type": "markdown",
   "metadata": {},
   "source": [
    "### Tasks"
   ]
  },
  {
   "cell_type": "markdown",
   "metadata": {},
   "source": [
    "1. Classification: Predict \"Label\" from `Combined_News_DJIA.csv` using news headlines.\n",
    "2. Regression: Predict \"DJIA Adj Close\" from `DJIA_table.csv` using news headlines.\n",
    "\n",
    "For evaluation, please use data from 2008-08-08 to 2014-12-31 as a training set, and a test set is then the following two years of data (from 2015-01-02 to 2016-07-01). This is roughly a 80%/20% split."
   ]
  },
  {
   "cell_type": "code",
   "execution_count": null,
   "metadata": {},
   "outputs": [],
   "source": [
    "# ..."
   ]
  }
 ],
 "metadata": {
  "kernelspec": {
   "display_name": "Python 3",
   "language": "python",
   "name": "python3"
  },
  "language_info": {
   "codemirror_mode": {
    "name": "ipython",
    "version": 3
   },
   "file_extension": ".py",
   "mimetype": "text/x-python",
   "name": "python",
   "nbconvert_exporter": "python",
   "pygments_lexer": "ipython3",
   "version": "3.7.3"
  }
 },
 "nbformat": 4,
 "nbformat_minor": 4
}
